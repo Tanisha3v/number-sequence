{
  "cells": [
    {
      "cell_type": "code",
      "execution_count": 1,
      "metadata": {
        "id": "-ZMgCvSRFqxE"
      },
      "outputs": [],
      "source": [
        "import tensorflow as tf"
      ]
    },
    {
      "cell_type": "code",
      "execution_count": 2,
      "metadata": {
        "id": "y_WQEM5MGmg3"
      },
      "outputs": [],
      "source": [
        "import numpy as np\n",
        "import logging\n",
        "logger = tf.get_logger()\n",
        "logger.setLevel(logging.ERROR)"
      ]
    },
    {
      "cell_type": "code",
      "execution_count": 3,
      "metadata": {
        "id": "gg4pn6aI1vms",
        "colab": {
          "base_uri": "https://localhost:8080/"
        },
        "outputId": "17d57bd2-4605-4cf0-d4f9-cf5d12dc1ab2"
      },
      "outputs": [
        {
          "output_type": "stream",
          "name": "stdout",
          "text": [
            "input of 1.0 gives an output of 3.0\n",
            "input of 2.0 gives an output of 5.0\n",
            "input of 3.0 gives an output of 7.0\n",
            "input of 4.0 gives an output of 9.0\n",
            "input of 5.0 gives an output of 11.0\n"
          ]
        }
      ],
      "source": [
        "x_arr = np.array([1, 2, 3, 4, 5],  dtype=float)\n",
        "y_arr = np.array([3, 5, 7, 9, 11],  dtype=float)\n",
        "\n",
        "for i,c in enumerate(x_arr):\n",
        "  print(\"input of {} gives an output of {}\".format(c, y_arr[i]))"
      ]
    },
    {
      "cell_type": "code",
      "execution_count": 4,
      "metadata": {
        "id": "pRllo2HLfXiu"
      },
      "outputs": [],
      "source": [
        "l0 = tf.keras.layers.Dense(units=4, input_shape=[1])"
      ]
    },
    {
      "cell_type": "code",
      "execution_count": 5,
      "metadata": {
        "id": "cSp-GpLSuMRq"
      },
      "outputs": [],
      "source": [
        "model = tf.keras.Sequential([l0])"
      ]
    },
    {
      "cell_type": "markdown",
      "metadata": {
        "id": "t7pfHfWxust0"
      },
      "source": [
        "```python\n",
        "model = tf.keras.Sequential([\n",
        "  tf.keras.layers.Dense(units=1, input_shape=[1])\n",
        "])\n",
        "```"
      ]
    },
    {
      "cell_type": "code",
      "execution_count": 6,
      "metadata": {
        "id": "m8YQN1H41L-Y"
      },
      "outputs": [],
      "source": [
        "model.compile(loss='mean_squared_error',\n",
        "              optimizer=tf.keras.optimizers.Adam(0.1))"
      ]
    },
    {
      "cell_type": "code",
      "execution_count": 7,
      "metadata": {
        "id": "lpRrl7WK10Pq"
      },
      "outputs": [],
      "source": [
        "history = model.fit(x_arr, y_arr, epochs=500, verbose=False)"
      ]
    },
    {
      "cell_type": "code",
      "execution_count": 10,
      "metadata": {
        "id": "oxNzL4lS2Gui",
        "colab": {
          "base_uri": "https://localhost:8080/"
        },
        "outputId": "061d7cea-74f9-495a-fc1a-575fd54689f6"
      },
      "outputs": [
        {
          "output_type": "stream",
          "name": "stdout",
          "text": [
            "Series given: [ 3.  5.  7.  9. 11.]\n",
            "1/1 [==============================] - 0s 30ms/step\n",
            "The number at position 8 is  [[16.991137 16.999998 16.999971 16.99823 ]]\n"
          ]
        }
      ],
      "source": [
        "print(\"Series given: {}\".format(y_arr))\n",
        "print(\"The number at position 8 is \", model.predict([8]))"
      ]
    }
  ],
  "metadata": {
    "colab": {
      "provenance": []
    },
    "kernelspec": {
      "display_name": "Python 3",
      "name": "python3"
    }
  },
  "nbformat": 4,
  "nbformat_minor": 0
}